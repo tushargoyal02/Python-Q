{
 "cells": [
  {
   "cell_type": "code",
   "execution_count": 1,
   "id": "38cabeea",
   "metadata": {},
   "outputs": [
    {
     "data": {
      "text/plain": [
       "3"
      ]
     },
     "execution_count": 1,
     "metadata": {},
     "output_type": "execute_result"
    }
   ],
   "source": [
    "# inheritance\n",
    "# polymorphism\n",
    "# poly phism\n",
    "1+2"
   ]
  },
  {
   "cell_type": "code",
   "execution_count": 4,
   "id": "f854c7e5",
   "metadata": {},
   "outputs": [
    {
     "data": {
      "text/plain": [
       "'12'"
      ]
     },
     "execution_count": 4,
     "metadata": {},
     "output_type": "execute_result"
    }
   ],
   "source": [
    "\"1\"+\"2\""
   ]
  },
  {
   "cell_type": "code",
   "execution_count": 5,
   "id": "447e1904",
   "metadata": {},
   "outputs": [],
   "source": [
    "# method overloading, method overidding"
   ]
  },
  {
   "cell_type": "code",
   "execution_count": 9,
   "id": "178f3542",
   "metadata": {},
   "outputs": [
    {
     "name": "stdout",
     "output_type": "stream",
     "text": [
      "hello father class with x\n"
     ]
    }
   ],
   "source": [
    "class Father:\n",
    "    def info(self):\n",
    "        print(\"hello father class\")\n",
    "    \n",
    "    def info(self,x):\n",
    "        print(\"hello father class with x\")\n",
    "        \n",
    "f1=Father()\n",
    "f1.info(10)"
   ]
  },
  {
   "cell_type": "code",
   "execution_count": 13,
   "id": "e35ea328",
   "metadata": {},
   "outputs": [
    {
     "name": "stdout",
     "output_type": "stream",
     "text": [
      "this is child class\n"
     ]
    }
   ],
   "source": [
    "class Father:\n",
    "    def info(self):\n",
    "        print(\"hello father class\")\n",
    "        \n",
    "class Child(Father):\n",
    "    def info(self):\n",
    "        print(\"this is child class\")\n",
    "    \n",
    "c1=Child()\n",
    "c1.info()"
   ]
  },
  {
   "cell_type": "code",
   "execution_count": 14,
   "id": "5c218d02",
   "metadata": {},
   "outputs": [],
   "source": [
    "# operator overloading"
   ]
  },
  {
   "cell_type": "code",
   "execution_count": 28,
   "id": "1df3ec7a",
   "metadata": {},
   "outputs": [
    {
     "name": "stdout",
     "output_type": "stream",
     "text": [
      "hello 123\n"
     ]
    }
   ],
   "source": [
    "class AddNo:\n",
    "    def __init__(self,num1, num2):\n",
    "        self.num1=num1\n",
    "        self.num2=num2\n",
    "  \n",
    "    def __add__(self,x):\n",
    "        print(\"hello 123\")\n",
    "        \n",
    "a1=AddNo(10,20)\n",
    "a2=AddNo(450,500)\n",
    "a1+a2  # =>  a1.__add__(a2)\n",
    "# __add__   => dunder functions"
   ]
  },
  {
   "cell_type": "code",
   "execution_count": 29,
   "id": "bcccdf8d",
   "metadata": {},
   "outputs": [],
   "source": [
    "# operator overloading and method overidding\n"
   ]
  },
  {
   "cell_type": "code",
   "execution_count": 31,
   "id": "200fd65f",
   "metadata": {},
   "outputs": [],
   "source": [
    "# encapsulation\n",
    "# bind the varuabke and nmethod together\n",
    "# class\n",
    "# access kar sakta nhi kr sakta"
   ]
  },
  {
   "cell_type": "code",
   "execution_count": 32,
   "id": "f922d61b",
   "metadata": {},
   "outputs": [],
   "source": [
    "# public , private, protected, default  => access modifier"
   ]
  },
  {
   "cell_type": "code",
   "execution_count": 34,
   "id": "7fe80b32",
   "metadata": {},
   "outputs": [
    {
     "data": {
      "text/plain": [
       "10"
      ]
     },
     "execution_count": 34,
     "metadata": {},
     "output_type": "execute_result"
    }
   ],
   "source": [
    "# _(protected)  __( private)\n",
    "class  xyz:\n",
    "    _y=10\n",
    "\n",
    "x1=xyz()\n",
    "x1._y"
   ]
  },
  {
   "cell_type": "code",
   "execution_count": 39,
   "id": "e9b23e2d",
   "metadata": {},
   "outputs": [
    {
     "data": {
      "text/plain": [
       "10"
      ]
     },
     "execution_count": 39,
     "metadata": {},
     "output_type": "execute_result"
    }
   ],
   "source": [
    "class  xyz:\n",
    "    __salary=10   #private variable\n",
    "\n",
    "class regex(xyz):\n",
    "    amount=200\n",
    "\n",
    "#x1=xyz()\n",
    "#x1._xyz__salary  #__salary  => _class__variable\n",
    "    \n",
    "r1=regex()\n",
    "r1._xyz__salary "
   ]
  },
  {
   "cell_type": "code",
   "execution_count": 40,
   "id": "3b03050f",
   "metadata": {},
   "outputs": [],
   "source": [
    "# notation"
   ]
  },
  {
   "cell_type": "code",
   "execution_count": 41,
   "id": "0524ecdd",
   "metadata": {},
   "outputs": [],
   "source": [
    "# abstraction \n",
    "# oops feature  => unwanted details from the user"
   ]
  },
  {
   "cell_type": "code",
   "execution_count": 48,
   "id": "d1622ea7",
   "metadata": {},
   "outputs": [],
   "source": [
    "def func():\n",
    "    pass"
   ]
  },
  {
   "cell_type": "code",
   "execution_count": 54,
   "id": "20c69673",
   "metadata": {},
   "outputs": [],
   "source": [
    "# abstraction is used to hide unwanted details from the user\n",
    "# abstraction => blue print for all child classes\n",
    "# abstraction class => atleast 1 abstract method\n",
    "# implemention is not given  => implemented by child classes\n",
    "# no object for abstract base class   => mammels\n",
    "\n",
    "from abc import ABC, abstractmethod\n",
    "\n",
    "class Mammels(ABC):     # mammel has inherited the abstract base class(ABC)\n",
    "    @abstractmethod\n",
    "    def leg(self):\n",
    "        pass\n",
    "\n",
    "\n",
    "class Dog(Mammels):\n",
    "    def leg(self):\n",
    "        print(\"has 4 legs\")\n",
    "    def info(self):\n",
    "        print(\"this is dog class\")\n",
    "    \n",
    "d1=Dog()\n"
   ]
  },
  {
   "cell_type": "code",
   "execution_count": 55,
   "id": "3e9ea030",
   "metadata": {},
   "outputs": [
    {
     "ename": "SyntaxError",
     "evalue": "expected ':' (706368152.py, line 1)",
     "output_type": "error",
     "traceback": [
      "\u001b[1;36m  Cell \u001b[1;32mIn[55], line 1\u001b[1;36m\u001b[0m\n\u001b[1;33m    if __name__ == main\u001b[0m\n\u001b[1;37m                       ^\u001b[0m\n\u001b[1;31mSyntaxError\u001b[0m\u001b[1;31m:\u001b[0m expected ':'\n"
     ]
    }
   ],
   "source": [
    "# if __name__ == main\n",
    "# list tuple\n",
    "# dictionary implement\n",
    "# function vs lambda\n",
    "# high order vs first class functions\n",
    "# list comphrehsnion\n",
    "# class & object\n",
    "# instance variable change?\n",
    "# inheritence\n",
    "# constructor overloading \n",
    "# _, __\n",
    "# @classmethod  @staticmethod"
   ]
  },
  {
   "cell_type": "code",
   "execution_count": 58,
   "id": "e11fbee8",
   "metadata": {},
   "outputs": [
    {
     "name": "stdout",
     "output_type": "stream",
     "text": [
      "20\n"
     ]
    }
   ],
   "source": [
    "class xyz:\n",
    "    def __init__(self,x):\n",
    "        self.x=x\n",
    "        \n",
    "a1=xyz(19)\n",
    "a1.x =20\n",
    "print(a1.x)\n"
   ]
  },
  {
   "cell_type": "code",
   "execution_count": null,
   "id": "bdb6d28d",
   "metadata": {},
   "outputs": [],
   "source": []
  }
 ],
 "metadata": {
  "kernelspec": {
   "display_name": "Python 3 (ipykernel)",
   "language": "python",
   "name": "python3"
  },
  "language_info": {
   "codemirror_mode": {
    "name": "ipython",
    "version": 3
   },
   "file_extension": ".py",
   "mimetype": "text/x-python",
   "name": "python",
   "nbconvert_exporter": "python",
   "pygments_lexer": "ipython3",
   "version": "3.10.11"
  }
 },
 "nbformat": 4,
 "nbformat_minor": 5
}
