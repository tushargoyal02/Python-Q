{
 "cells": [
  {
   "cell_type": "code",
   "execution_count": 1,
   "id": "771a4c08",
   "metadata": {},
   "outputs": [],
   "source": [
    "# operators\n",
    "# symbol\n",
    "# 1+2\n",
    "\n",
    "# Arithemetic"
   ]
  },
  {
   "cell_type": "code",
   "execution_count": 3,
   "id": "5d23829b",
   "metadata": {},
   "outputs": [
    {
     "data": {
      "text/plain": [
       "5.0"
      ]
     },
     "execution_count": 3,
     "metadata": {},
     "output_type": "execute_result"
    }
   ],
   "source": [
    "10/2"
   ]
  },
  {
   "cell_type": "code",
   "execution_count": 5,
   "id": "1dfdef3c",
   "metadata": {},
   "outputs": [
    {
     "data": {
      "text/plain": [
       "5"
      ]
     },
     "execution_count": 5,
     "metadata": {},
     "output_type": "execute_result"
    }
   ],
   "source": [
    "10//2"
   ]
  },
  {
   "cell_type": "code",
   "execution_count": 8,
   "id": "16ea67b4",
   "metadata": {},
   "outputs": [
    {
     "data": {
      "text/plain": [
       "12.0"
      ]
     },
     "execution_count": 8,
     "metadata": {},
     "output_type": "execute_result"
    }
   ],
   "source": [
    "10.0 + 2"
   ]
  },
  {
   "cell_type": "code",
   "execution_count": 10,
   "id": "b9c1bfa7",
   "metadata": {},
   "outputs": [
    {
     "data": {
      "text/plain": [
       "16"
      ]
     },
     "execution_count": 10,
     "metadata": {},
     "output_type": "execute_result"
    }
   ],
   "source": [
    "2**4"
   ]
  },
  {
   "cell_type": "code",
   "execution_count": 12,
   "id": "ab2861bd",
   "metadata": {},
   "outputs": [
    {
     "data": {
      "text/plain": [
       "1"
      ]
     },
     "execution_count": 12,
     "metadata": {},
     "output_type": "execute_result"
    }
   ],
   "source": [
    "#modulus\n",
    "10%3"
   ]
  },
  {
   "cell_type": "code",
   "execution_count": 14,
   "id": "be0200e2",
   "metadata": {},
   "outputs": [
    {
     "data": {
      "text/plain": [
       "8.0"
      ]
     },
     "execution_count": 14,
     "metadata": {},
     "output_type": "execute_result"
    }
   ],
   "source": [
    "1*5-2/1+7-2\n",
    "\n",
    "# **\n",
    "# * / // %\n",
    "#+ -"
   ]
  },
  {
   "cell_type": "code",
   "execution_count": 16,
   "id": "f7c967f4",
   "metadata": {},
   "outputs": [
    {
     "data": {
      "text/plain": [
       "True"
      ]
     },
     "execution_count": 16,
     "metadata": {},
     "output_type": "execute_result"
    }
   ],
   "source": [
    "# comparison\n",
    "10==10"
   ]
  },
  {
   "cell_type": "code",
   "execution_count": 18,
   "id": "b956bf4f",
   "metadata": {},
   "outputs": [
    {
     "data": {
      "text/plain": [
       "False"
      ]
     },
     "execution_count": 18,
     "metadata": {},
     "output_type": "execute_result"
    }
   ],
   "source": [
    "x=19\n",
    "x>20\n",
    "# == , > , < , >=, <=, !="
   ]
  },
  {
   "cell_type": "code",
   "execution_count": 21,
   "id": "735fa7e1",
   "metadata": {},
   "outputs": [
    {
     "ename": "NameError",
     "evalue": "name 'y' is not defined",
     "output_type": "error",
     "traceback": [
      "\u001b[1;31m---------------------------------------------------------------------------\u001b[0m",
      "\u001b[1;31mNameError\u001b[0m                                 Traceback (most recent call last)",
      "Cell \u001b[1;32mIn[21], line 4\u001b[0m\n\u001b[0;32m      1\u001b[0m \u001b[38;5;66;03m# assignment operator\u001b[39;00m\n\u001b[0;32m      2\u001b[0m x\u001b[38;5;241m=\u001b[39m\u001b[38;5;241m10\u001b[39m\n\u001b[1;32m----> 4\u001b[0m x\u001b[38;5;241m=\u001b[39m\u001b[43my\u001b[49m\u001b[38;5;241m+\u001b[39m\u001b[38;5;241m10\u001b[39m\n\u001b[0;32m      5\u001b[0m \u001b[38;5;66;03m#  x+=10\u001b[39;00m\n\u001b[0;32m      6\u001b[0m \u001b[38;5;28mprint\u001b[39m(x)\n",
      "\u001b[1;31mNameError\u001b[0m: name 'y' is not defined"
     ]
    }
   ],
   "source": [
    "# assignment operator\n",
    "x=10\n",
    "\n",
    "x=y+10\n",
    "#  x+=10\n",
    "print(x)"
   ]
  },
  {
   "cell_type": "code",
   "execution_count": 24,
   "id": "1e6e9605",
   "metadata": {},
   "outputs": [
    {
     "name": "stdout",
     "output_type": "stream",
     "text": [
      "0\n"
     ]
    }
   ],
   "source": [
    "x=3\n",
    "x //=4\n",
    "print(x)\n",
    "\n",
    "# //= , *=, %= , +="
   ]
  },
  {
   "cell_type": "code",
   "execution_count": 30,
   "id": "3778cb97",
   "metadata": {},
   "outputs": [
    {
     "data": {
      "text/plain": [
       "False"
      ]
     },
     "execution_count": 30,
     "metadata": {},
     "output_type": "execute_result"
    }
   ],
   "source": [
    "# logical 9 and or  not\n",
    "\n",
    "x=10\n",
    "y=20\n",
    "\n",
    "x>10 and y==20\n"
   ]
  },
  {
   "cell_type": "code",
   "execution_count": 34,
   "id": "15f6a2fa",
   "metadata": {},
   "outputs": [
    {
     "data": {
      "text/plain": [
       "False"
      ]
     },
     "execution_count": 34,
     "metadata": {},
     "output_type": "execute_result"
    }
   ],
   "source": [
    "x>10 or y==21"
   ]
  },
  {
   "cell_type": "code",
   "execution_count": 37,
   "id": "fcb6bd69",
   "metadata": {},
   "outputs": [
    {
     "data": {
      "text/plain": [
       "False"
      ]
     },
     "execution_count": 37,
     "metadata": {},
     "output_type": "execute_result"
    }
   ],
   "source": [
    "#membership     in    not in\n",
    "\"Z\" in \"JAIPUR\""
   ]
  },
  {
   "cell_type": "code",
   "execution_count": 39,
   "id": "9d39c15a",
   "metadata": {},
   "outputs": [
    {
     "data": {
      "text/plain": [
       "True"
      ]
     },
     "execution_count": 39,
     "metadata": {},
     "output_type": "execute_result"
    }
   ],
   "source": [
    "\"Z\" not in \"JAIPUR\""
   ]
  },
  {
   "cell_type": "code",
   "execution_count": 43,
   "id": "b4681a23",
   "metadata": {},
   "outputs": [
    {
     "data": {
      "text/plain": [
       "True"
      ]
     },
     "execution_count": 43,
     "metadata": {},
     "output_type": "execute_result"
    }
   ],
   "source": [
    "#6 operator  => Identity opertor\n",
    "x=\"10\"\n",
    "type(x) is not int\n"
   ]
  },
  {
   "cell_type": "code",
   "execution_count": 44,
   "id": "2bdea82f",
   "metadata": {},
   "outputs": [],
   "source": [
    "# 8421"
   ]
  },
  {
   "cell_type": "code",
   "execution_count": 51,
   "id": "1629bb95",
   "metadata": {},
   "outputs": [
    {
     "name": "stdout",
     "output_type": "stream",
     "text": [
      "hey\n"
     ]
    }
   ],
   "source": [
    "# conditional statement\n",
    "print(\"hey\")"
   ]
  },
  {
   "cell_type": "code",
   "execution_count": 52,
   "id": "bcb3331e",
   "metadata": {},
   "outputs": [
    {
     "data": {
      "text/plain": [
       "'\\nif(conditio){\\nwork\\n}\\n\\nif(condition):\\n    sdafasdf\\n    dsaf\\n\\n'"
      ]
     },
     "execution_count": 52,
     "metadata": {},
     "output_type": "execute_result"
    }
   ],
   "source": [
    "# if\n",
    "'''\n",
    "if(conditio){\n",
    "work\n",
    "}\n",
    "\n",
    "if(condition):\n",
    "    sdafasdf\n",
    "    dsaf\n",
    "\n",
    "'''"
   ]
  },
  {
   "cell_type": "code",
   "execution_count": 68,
   "id": "4b8d22e0",
   "metadata": {},
   "outputs": [
    {
     "name": "stdout",
     "output_type": "stream",
     "text": [
      "Age should be 18 years\n"
     ]
    }
   ],
   "source": [
    "age=10\n",
    "if(age>=18):\n",
    "    print(\"He/She can vote\")\n",
    "else:\n",
    "    print(\"Age should be 18 years\")"
   ]
  },
  {
   "cell_type": "code",
   "execution_count": 70,
   "id": "a3683cd8",
   "metadata": {},
   "outputs": [
    {
     "name": "stdout",
     "output_type": "stream",
     "text": [
      "Aadhar card\n"
     ]
    }
   ],
   "source": [
    "country=\"India\"\n",
    "if(country==\"India\"):\n",
    "    print(\"Aadhar card\")\n",
    "else:\n",
    "    print(\"Not eligible\")"
   ]
  },
  {
   "cell_type": "code",
   "execution_count": 78,
   "id": "e59df648",
   "metadata": {},
   "outputs": [
    {
     "name": "stdout",
     "output_type": "stream",
     "text": [
      "Verification\n"
     ]
    }
   ],
   "source": [
    "doc1=\"Pan\"\n",
    "doc2=\"Aadhar\"\n",
    "if(doc1==\"Pan\" and doc2==\"Aadhar\"):\n",
    "    print(\"Verification\")\n",
    "else:\n",
    "    print(\"Not verified\")"
   ]
  },
  {
   "cell_type": "code",
   "execution_count": 84,
   "id": "ad3befb5",
   "metadata": {},
   "outputs": [
    {
     "name": "stdout",
     "output_type": "stream",
     "text": [
      "Vote eligible\n"
     ]
    }
   ],
   "source": [
    "#age=18\n",
    "# age==18  => vote eligible\n",
    "# age==24 => Election\n",
    "#else : (Kuch nhi)\n",
    "age=25\n",
    "if(age==18):\n",
    "    print(\"Vote eligible\")\n",
    "    \n",
    "elif(age==24):\n",
    "    print(\"Election\")\n",
    "    \n",
    "else:\n",
    "    print(\"kuch nhi\")"
   ]
  },
  {
   "cell_type": "code",
   "execution_count": null,
   "id": "2c58655a",
   "metadata": {},
   "outputs": [],
   "source": []
  }
 ],
 "metadata": {
  "kernelspec": {
   "display_name": "Python 3 (ipykernel)",
   "language": "python",
   "name": "python3"
  },
  "language_info": {
   "codemirror_mode": {
    "name": "ipython",
    "version": 3
   },
   "file_extension": ".py",
   "mimetype": "text/x-python",
   "name": "python",
   "nbconvert_exporter": "python",
   "pygments_lexer": "ipython3",
   "version": "3.10.11"
  }
 },
 "nbformat": 4,
 "nbformat_minor": 5
}
