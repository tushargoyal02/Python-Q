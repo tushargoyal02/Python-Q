{
 "cells": [
  {
   "cell_type": "code",
   "execution_count": 2,
   "id": "cc7aac4a",
   "metadata": {},
   "outputs": [],
   "source": [
    "# type of parameter passing\n",
    "\n",
    "def employee(eid, ename, email):\n",
    "    print( f\"Eid: {eid}, Ename:{ename}, Email:{email}\")"
   ]
  },
  {
   "cell_type": "code",
   "execution_count": 7,
   "id": "92c4e862",
   "metadata": {},
   "outputs": [
    {
     "name": "stdout",
     "output_type": "stream",
     "text": [
      "Eid: 10, Ename:naina, Email:naina@gmail.com\n"
     ]
    }
   ],
   "source": [
    "# 3 argument  ( required argument)\n",
    "employee(10, \"naina\", \"naina@gmail.com\")\n"
   ]
  },
  {
   "cell_type": "code",
   "execution_count": 9,
   "id": "f9b7d32f",
   "metadata": {},
   "outputs": [
    {
     "name": "stdout",
     "output_type": "stream",
     "text": [
      "Eid: naina, Ename:10, Email:naina@gmail.com\n"
     ]
    }
   ],
   "source": [
    "# positional argument\n",
    "def employee(eid, ename, email):\n",
    "    print( f\"Eid: {eid}, Ename:{ename}, Email:{email}\")\n",
    "    \n",
    "employee(\"naina\",10, \"naina@gmail.com\")"
   ]
  },
  {
   "cell_type": "code",
   "execution_count": 11,
   "id": "f4b3066f",
   "metadata": {},
   "outputs": [
    {
     "name": "stdout",
     "output_type": "stream",
     "text": [
      "Eid: 10, Ename:naina, Email:naina@gmail.com\n"
     ]
    }
   ],
   "source": [
    "# keyword argument\n",
    "def employee(eid, ename, email):\n",
    "    print( f\"Eid: {eid}, Ename:{ename}, Email:{email}\")\n",
    "    \n",
    "employee(ename=\"naina\",eid=10, email=\"naina@gmail.com\")"
   ]
  },
  {
   "cell_type": "code",
   "execution_count": 21,
   "id": "ab05633b",
   "metadata": {},
   "outputs": [
    {
     "name": "stdout",
     "output_type": "stream",
     "text": [
      "Eid: 10, Ename:naina, Email:naina@gmail.com\n"
     ]
    }
   ],
   "source": [
    "# keyword + positional argument\n",
    "def employee(eid, ename, email):\n",
    "    print( f\"Eid: {eid}, Ename:{ename}, Email:{email}\")\n",
    "    \n",
    "#employee(10,\"naina\", email=\"naina@gmail.com\")\n",
    "employee(10,ename=\"naina\", email=\"naina@gmail.com\")"
   ]
  },
  {
   "cell_type": "code",
   "execution_count": 22,
   "id": "e6be69c3",
   "metadata": {},
   "outputs": [
    {
     "name": "stdout",
     "output_type": "stream",
     "text": [
      "Eid: 10, Ename:naina, Email:regex@gmail.com\n"
     ]
    }
   ],
   "source": [
    "# default argument => function declaration\n",
    "def employee(eid, ename, email=\"regex@gmail.com\"):\n",
    "    print( f\"Eid: {eid}, Ename:{ename}, Email:{email}\")\n",
    "    \n",
    "employee(10,\"naina\")"
   ]
  },
  {
   "cell_type": "code",
   "execution_count": 23,
   "id": "71adadc9",
   "metadata": {},
   "outputs": [
    {
     "name": "stdout",
     "output_type": "stream",
     "text": [
      "Eid: 10, Ename:naina, Email:naina@gmail.com\n"
     ]
    }
   ],
   "source": [
    "# default argument => function declaration\n",
    "def employee(eid, ename, email=\"regex@gmail.com\"):\n",
    "    print( f\"Eid: {eid}, Ename:{ename}, Email:{email}\")\n",
    "    \n",
    "employee(10,\"naina\",\"naina@gmail.com\")"
   ]
  },
  {
   "cell_type": "code",
   "execution_count": 35,
   "id": "07d544d4",
   "metadata": {},
   "outputs": [
    {
     "name": "stdout",
     "output_type": "stream",
     "text": [
      "() <class 'tuple'>\n"
     ]
    }
   ],
   "source": [
    "# variable length argument\n",
    "def employee( *data ):\n",
    "    print(data, type(data))\n",
    "    \n",
    "employee()\n"
   ]
  },
  {
   "cell_type": "code",
   "execution_count": 38,
   "id": "a60dfed5",
   "metadata": {},
   "outputs": [
    {
     "ename": "IndexError",
     "evalue": "tuple index out of range",
     "output_type": "error",
     "traceback": [
      "\u001b[1;31m---------------------------------------------------------------------------\u001b[0m",
      "\u001b[1;31mIndexError\u001b[0m                                Traceback (most recent call last)",
      "Cell \u001b[1;32mIn[38], line 2\u001b[0m\n\u001b[0;32m      1\u001b[0m mytuple\u001b[38;5;241m=\u001b[39m(\u001b[38;5;241m10\u001b[39m,\u001b[38;5;241m20\u001b[39m)\n\u001b[1;32m----> 2\u001b[0m \u001b[43mmytuple\u001b[49m\u001b[43m[\u001b[49m\u001b[38;5;241;43m3\u001b[39;49m\u001b[43m]\u001b[49m\n",
      "\u001b[1;31mIndexError\u001b[0m: tuple index out of range"
     ]
    }
   ],
   "source": [
    "mytuple=(10,20)\n",
    "mytuple[3]"
   ]
  },
  {
   "cell_type": "code",
   "execution_count": 40,
   "id": "d9188abc",
   "metadata": {},
   "outputs": [
    {
     "name": "stdout",
     "output_type": "stream",
     "text": [
      "{'eid': 10, 'ename': 'abhhishek'} <class 'dict'>\n",
      "{'email': 'abhhishek@gmail.com'} <class 'dict'>\n",
      "{} <class 'dict'>\n"
     ]
    }
   ],
   "source": [
    "# variable length argument\n",
    "def employee( **data ):\n",
    "    print(data, type(data))\n",
    "    \n",
    "employee(eid=10, ename=\"abhhishek\")\n",
    "employee(email=\"abhhishek@gmail.com\")\n",
    "employee()\n"
   ]
  },
  {
   "cell_type": "code",
   "execution_count": 41,
   "id": "12ea52e6",
   "metadata": {},
   "outputs": [],
   "source": [
    "# *args  and *kwargs "
   ]
  },
  {
   "cell_type": "code",
   "execution_count": 44,
   "id": "b36bc379",
   "metadata": {},
   "outputs": [
    {
     "name": "stdout",
     "output_type": "stream",
     "text": [
      "X value in function: 20\n",
      "After funtion: 10\n"
     ]
    }
   ],
   "source": [
    "def func(x):\n",
    "    x=x+10\n",
    "    print(\"X value in function:\", x)\n",
    "    \n",
    "# outside\n",
    "num=10\n",
    "func(num)\n",
    "print(\"After funtion:\", num)"
   ]
  },
  {
   "cell_type": "code",
   "execution_count": 45,
   "id": "ceaf52ea",
   "metadata": {},
   "outputs": [],
   "source": [
    "# mutuable data type\n",
    "\n"
   ]
  },
  {
   "cell_type": "code",
   "execution_count": 50,
   "id": "06480f9f",
   "metadata": {},
   "outputs": [
    {
     "name": "stdout",
     "output_type": "stream",
     "text": [
      "Original : [10, 20, 30] 3017111366656\n",
      "Inside function: [10, 20, 30] 3017111366656\n",
      "Inside function after change: [10, 20, 30, 60] 3017111366656\n",
      "Fucntion call Original : [10, 20, 30, 60] 3017111366656\n"
     ]
    }
   ],
   "source": [
    "def func(mylist):\n",
    "    print(\"Inside function:\",mylist, id(mylist))\n",
    "    mylist.append(60)\n",
    "    print(\"Inside function after change:\",mylist, id(mylist))\n",
    "    \n",
    "#outsude\n",
    "list1=[10,20,30]\n",
    "print(\"Original :\", list1, id(list1))\n",
    "func(list1)\n",
    "print(\"Fucntion call Original :\", list1, id(list1))"
   ]
  },
  {
   "cell_type": "code",
   "execution_count": 52,
   "id": "c7c5d2ea",
   "metadata": {},
   "outputs": [
    {
     "name": "stdout",
     "output_type": "stream",
     "text": [
      "Original : [10, 20, 30] 3017133549568\n",
      "Fucntion call Original : [10, 20, 30, 60] 3017133549568\n"
     ]
    }
   ],
   "source": [
    "def func(mylist):\n",
    "    mylist.append(60)\n",
    "\n",
    "    \n",
    "#outsude\n",
    "list1=[10,20,30]\n",
    "print(\"Original :\", list1, id(list1))\n",
    "func(list1)\n",
    "print(\"Fucntion call Original :\", list1, id(list1))"
   ]
  },
  {
   "cell_type": "code",
   "execution_count": 53,
   "id": "5a76afee",
   "metadata": {},
   "outputs": [],
   "source": [
    "# lambda functions\n",
    "# annymous function\n",
    "# one line - inline\n",
    "# "
   ]
  },
  {
   "cell_type": "code",
   "execution_count": 60,
   "id": "86e530e6",
   "metadata": {},
   "outputs": [
    {
     "name": "stdout",
     "output_type": "stream",
     "text": [
      "100\n"
     ]
    }
   ],
   "source": [
    "def square(x):\n",
    "    print(x**2)\n",
    "    \n",
    "square(10)"
   ]
  },
  {
   "cell_type": "code",
   "execution_count": 61,
   "id": "379ff12d",
   "metadata": {},
   "outputs": [
    {
     "data": {
      "text/plain": [
       "100"
      ]
     },
     "execution_count": 61,
     "metadata": {},
     "output_type": "execute_result"
    }
   ],
   "source": [
    "# lambda parameter: expression\n",
    "out = lambda  x: x**2\n",
    "out(10)"
   ]
  },
  {
   "cell_type": "code",
   "execution_count": 62,
   "id": "324dbbaf",
   "metadata": {},
   "outputs": [],
   "source": [
    "# return keyword\n",
    "\n"
   ]
  },
  {
   "cell_type": "code",
   "execution_count": 66,
   "id": "6901a1a4",
   "metadata": {},
   "outputs": [
    {
     "name": "stdout",
     "output_type": "stream",
     "text": [
      "20\n",
      "return value: None\n"
     ]
    }
   ],
   "source": [
    "def func(x):\n",
    "    print(x+10)\n",
    "    \n",
    "# var= func()\n",
    "x=func(10)\n",
    "print(\"return value:\", x)"
   ]
  },
  {
   "cell_type": "code",
   "execution_count": 75,
   "id": "0a5f9e9b",
   "metadata": {},
   "outputs": [
    {
     "name": "stdout",
     "output_type": "stream",
     "text": [
      "return value: ['hey', 'hello']\n"
     ]
    }
   ],
   "source": [
    "def func(x):\n",
    "    return [\"hey\",\"hello\"]\n",
    "    \n",
    "# var= func()\n",
    "x=func(10)\n",
    "print(\"return value:\", x)"
   ]
  },
  {
   "cell_type": "code",
   "execution_count": 76,
   "id": "e1337982",
   "metadata": {},
   "outputs": [
    {
     "ename": "ZeroDivisionError",
     "evalue": "division by zero",
     "output_type": "error",
     "traceback": [
      "\u001b[1;31m---------------------------------------------------------------------------\u001b[0m",
      "\u001b[1;31mZeroDivisionError\u001b[0m                         Traceback (most recent call last)",
      "Cell \u001b[1;32mIn[76], line 1\u001b[0m\n\u001b[1;32m----> 1\u001b[0m \u001b[38;5;241;43m10\u001b[39;49m\u001b[38;5;241;43m/\u001b[39;49m\u001b[38;5;241;43m0\u001b[39;49m\n",
      "\u001b[1;31mZeroDivisionError\u001b[0m: division by zero"
     ]
    }
   ],
   "source": [
    "10/0"
   ]
  },
  {
   "cell_type": "code",
   "execution_count": null,
   "id": "0e330da8",
   "metadata": {},
   "outputs": [],
   "source": []
  },
  {
   "cell_type": "code",
   "execution_count": 78,
   "id": "97d84c6f",
   "metadata": {},
   "outputs": [
    {
     "name": "stdout",
     "output_type": "stream",
     "text": [
      "{'hey hello': 9}\n"
     ]
    }
   ],
   "source": [
    "def func(s):\n",
    "    total=0\n",
    "    for i in s:\n",
    "        total += 1\n",
    "    \n",
    "    return {s:total}\n",
    "        \n",
    "out=func(\"hey hello\")\n",
    "print(out)"
   ]
  }
 ],
 "metadata": {
  "kernelspec": {
   "display_name": "Python 3 (ipykernel)",
   "language": "python",
   "name": "python3"
  },
  "language_info": {
   "codemirror_mode": {
    "name": "ipython",
    "version": 3
   },
   "file_extension": ".py",
   "mimetype": "text/x-python",
   "name": "python",
   "nbconvert_exporter": "python",
   "pygments_lexer": "ipython3",
   "version": "3.10.11"
  }
 },
 "nbformat": 4,
 "nbformat_minor": 5
}
