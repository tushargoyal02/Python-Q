{
 "cells": [
  {
   "cell_type": "code",
   "execution_count": 1,
   "id": "686373c5",
   "metadata": {},
   "outputs": [],
   "source": [
    "# function\n",
    "# named block\n",
    "# # block of code that we can run any time\n",
    "# loop\n",
    "# loop\n",
    "# name \n",
    "# code redabilty\n",
    "# bade logic => logic mai convert\n",
    "# debugging"
   ]
  },
  {
   "cell_type": "code",
   "execution_count": 2,
   "id": "86fcdfa9",
   "metadata": {},
   "outputs": [
    {
     "name": "stdout",
     "output_type": "stream",
     "text": [
      "hey\n",
      "hey\n"
     ]
    }
   ],
   "source": [
    "for i in range(1,3):\n",
    "    print(\"hey\")"
   ]
  },
  {
   "cell_type": "code",
   "execution_count": null,
   "id": "217f1474",
   "metadata": {},
   "outputs": [],
   "source": []
  },
  {
   "cell_type": "code",
   "execution_count": 4,
   "id": "f9e7c307",
   "metadata": {},
   "outputs": [
    {
     "name": "stdout",
     "output_type": "stream",
     "text": [
      "hey\n",
      "hey\n"
     ]
    }
   ],
   "source": [
    "for i in range(1,3):\n",
    "    print(\"hey\")"
   ]
  },
  {
   "cell_type": "code",
   "execution_count": 5,
   "id": "e29f59db",
   "metadata": {},
   "outputs": [
    {
     "data": {
      "text/plain": [
       "'\\nint func(){\\n    statement\\n}\\n\\n# fucntion declare\\ndef func():\\n    statement\\n    \\n\\n'"
      ]
     },
     "execution_count": 5,
     "metadata": {},
     "output_type": "execute_result"
    }
   ],
   "source": [
    "\"\"\"\n",
    "int func(){\n",
    "    statement\n",
    "}\n",
    "\n",
    "# fucntion declare\n",
    "def func():\n",
    "    statement\n",
    "    \n",
    "\n",
    "\"\"\""
   ]
  },
  {
   "cell_type": "code",
   "execution_count": 6,
   "id": "00374923",
   "metadata": {},
   "outputs": [],
   "source": [
    "def greeting():\n",
    "    print(\"hello\")"
   ]
  },
  {
   "cell_type": "code",
   "execution_count": 10,
   "id": "a5efa1bd",
   "metadata": {},
   "outputs": [
    {
     "name": "stdout",
     "output_type": "stream",
     "text": [
      "hello\n",
      "hello\n",
      "hello\n"
     ]
    }
   ],
   "source": [
    "\n",
    "greeting()\n",
    "greeting()\n",
    "greeting()"
   ]
  },
  {
   "cell_type": "code",
   "execution_count": null,
   "id": "6b989f7e",
   "metadata": {},
   "outputs": [],
   "source": []
  },
  {
   "cell_type": "code",
   "execution_count": null,
   "id": "4188a4d6",
   "metadata": {},
   "outputs": [],
   "source": []
  },
  {
   "cell_type": "code",
   "execution_count": 12,
   "id": "39302a65",
   "metadata": {},
   "outputs": [
    {
     "name": "stdout",
     "output_type": "stream",
     "text": [
      "hello\n"
     ]
    }
   ],
   "source": [
    "greeting()"
   ]
  },
  {
   "cell_type": "code",
   "execution_count": null,
   "id": "8bbd0122",
   "metadata": {},
   "outputs": [],
   "source": []
  },
  {
   "cell_type": "code",
   "execution_count": 18,
   "id": "a27176a7",
   "metadata": {},
   "outputs": [],
   "source": [
    "# username => Parameter / formal / informal argument\n",
    "def greeting(username):\n",
    "    print(\"hello\", username)"
   ]
  },
  {
   "cell_type": "code",
   "execution_count": 23,
   "id": "e2830aa7",
   "metadata": {},
   "outputs": [
    {
     "name": "stdout",
     "output_type": "stream",
     "text": [
      "hello shivam\n",
      "hello ashish\n",
      "hello tushar\n"
     ]
    }
   ],
   "source": [
    "# argument / formal argument / informal parameter\n",
    "greeting(\"shivam\")\n",
    "greeting(\"ashish\")\n",
    "greeting(\"tushar\")"
   ]
  },
  {
   "cell_type": "code",
   "execution_count": 30,
   "id": "b8bcd498",
   "metadata": {},
   "outputs": [
    {
     "name": "stdout",
     "output_type": "stream",
     "text": [
      "30\n"
     ]
    }
   ],
   "source": [
    "def sumNo(x,y):\n",
    "    c=x+y\n",
    "    print(c)\n",
    "\n",
    "sumNo(10,20)\n"
   ]
  },
  {
   "cell_type": "code",
   "execution_count": 35,
   "id": "17000fc6",
   "metadata": {},
   "outputs": [
    {
     "name": "stdout",
     "output_type": "stream",
     "text": [
      "30\n"
     ]
    }
   ],
   "source": [
    "def sumNo():\n",
    "    c=x+y\n",
    "    print(c)\n",
    "\n",
    "# function outside\n",
    "x=10\n",
    "y=20\n",
    "sumNo()\n",
    "\n"
   ]
  },
  {
   "cell_type": "code",
   "execution_count": 37,
   "id": "ee257e7f",
   "metadata": {},
   "outputs": [
    {
     "name": "stdout",
     "output_type": "stream",
     "text": [
      "10\n"
     ]
    }
   ],
   "source": [
    "x=10\n",
    "x+10\n",
    "print(x)"
   ]
  },
  {
   "cell_type": "code",
   "execution_count": 39,
   "id": "fa200efe",
   "metadata": {},
   "outputs": [
    {
     "name": "stdout",
     "output_type": "stream",
     "text": [
      "Inside function 20\n",
      "10\n"
     ]
    }
   ],
   "source": [
    "def func():\n",
    "    print(\"Inside function\",x+10)\n",
    "   \n",
    "# yha se start\n",
    "x=10\n",
    "func()\n",
    "print(x)"
   ]
  },
  {
   "cell_type": "code",
   "execution_count": 43,
   "id": "6fa2e69e",
   "metadata": {},
   "outputs": [],
   "source": [
    "del y"
   ]
  },
  {
   "cell_type": "code",
   "execution_count": 48,
   "id": "98e12574",
   "metadata": {},
   "outputs": [
    {
     "ename": "UnboundLocalError",
     "evalue": "local variable 'x' referenced before assignment",
     "output_type": "error",
     "traceback": [
      "\u001b[1;31m---------------------------------------------------------------------------\u001b[0m",
      "\u001b[1;31mUnboundLocalError\u001b[0m                         Traceback (most recent call last)",
      "Cell \u001b[1;32mIn[48], line 8\u001b[0m\n\u001b[0;32m      5\u001b[0m \u001b[38;5;66;03m# yha se start\u001b[39;00m\n\u001b[0;32m      6\u001b[0m x\u001b[38;5;241m=\u001b[39m\u001b[38;5;241m10\u001b[39m\n\u001b[1;32m----> 8\u001b[0m \u001b[43mfunc\u001b[49m\u001b[43m(\u001b[49m\u001b[43m)\u001b[49m\n\u001b[0;32m      9\u001b[0m \u001b[38;5;28mprint\u001b[39m(x)\n",
      "Cell \u001b[1;32mIn[48], line 2\u001b[0m, in \u001b[0;36mfunc\u001b[1;34m()\u001b[0m\n\u001b[0;32m      1\u001b[0m \u001b[38;5;28;01mdef\u001b[39;00m \u001b[38;5;21mfunc\u001b[39m():\n\u001b[1;32m----> 2\u001b[0m     x\u001b[38;5;241m=\u001b[39m\u001b[43mx\u001b[49m\u001b[38;5;241m+\u001b[39m\u001b[38;5;241m10\u001b[39m\n\u001b[0;32m      3\u001b[0m     \u001b[38;5;28mprint\u001b[39m(\u001b[38;5;124m\"\u001b[39m\u001b[38;5;124mInside function\u001b[39m\u001b[38;5;124m\"\u001b[39m,x)\n",
      "\u001b[1;31mUnboundLocalError\u001b[0m: local variable 'x' referenced before assignment"
     ]
    }
   ],
   "source": [
    "def func():\n",
    "    x=x+10\n",
    "    print(\"Inside function\",x)\n",
    "   \n",
    "# yha se start\n",
    "x=10\n",
    "\n",
    "func()\n",
    "print(x)"
   ]
  },
  {
   "cell_type": "code",
   "execution_count": null,
   "id": "821a75ee",
   "metadata": {},
   "outputs": [],
   "source": []
  },
  {
   "cell_type": "code",
   "execution_count": 54,
   "id": "9cf2a774",
   "metadata": {},
   "outputs": [
    {
     "name": "stdout",
     "output_type": "stream",
     "text": [
      "Inside function 19\n",
      "Inside function 20\n",
      "Inside function 21\n",
      "Outside fucntion 21\n"
     ]
    }
   ],
   "source": [
    "def ageAdd():\n",
    "    global age\n",
    "    \n",
    "    age=age+1\n",
    "    print(\"Inside function\", age)\n",
    "    \n",
    "    \n",
    "age=18\n",
    "ageAdd()\n",
    "ageAdd()\n",
    "ageAdd()\n",
    "print(\"Outside fucntion\", age)"
   ]
  },
  {
   "cell_type": "code",
   "execution_count": 61,
   "id": "8d50ad7d",
   "metadata": {},
   "outputs": [],
   "source": [
    "# num=> x(address)\n",
    "def additionNo(num):\n",
    "    print(\"NUM:\",id(num))\n",
    "    num=num+10\n",
    "    print(\"New num:\", id(num))"
   ]
  },
  {
   "cell_type": "code",
   "execution_count": 63,
   "id": "92326211",
   "metadata": {},
   "outputs": [
    {
     "name": "stdout",
     "output_type": "stream",
     "text": [
      "Before function of x: 1805290701328\n",
      "NUM: 1805290701328\n",
      "New num: 1805290701648\n",
      "After function of x: 1805290701328\n"
     ]
    }
   ],
   "source": [
    "x=10\n",
    "print(\"Before function of x:\", id(x))\n",
    "additionNo(x)\n",
    "print(\"After function of x:\", id(x))\n"
   ]
  },
  {
   "cell_type": "code",
   "execution_count": null,
   "id": "d2d6e977",
   "metadata": {},
   "outputs": [],
   "source": []
  }
 ],
 "metadata": {
  "kernelspec": {
   "display_name": "Python 3 (ipykernel)",
   "language": "python",
   "name": "python3"
  },
  "language_info": {
   "codemirror_mode": {
    "name": "ipython",
    "version": 3
   },
   "file_extension": ".py",
   "mimetype": "text/x-python",
   "name": "python",
   "nbconvert_exporter": "python",
   "pygments_lexer": "ipython3",
   "version": "3.10.11"
  }
 },
 "nbformat": 4,
 "nbformat_minor": 5
}
