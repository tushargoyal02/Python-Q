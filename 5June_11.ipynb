{
 "cells": [
  {
   "cell_type": "code",
   "execution_count": 1,
   "id": "27dcc2f6",
   "metadata": {},
   "outputs": [
    {
     "name": "stdout",
     "output_type": "stream",
     "text": [
      "3078329729552\n"
     ]
    }
   ],
   "source": [
    "x=10\n",
    "print( id(x) )"
   ]
  },
  {
   "cell_type": "code",
   "execution_count": 3,
   "id": "a205bb0e",
   "metadata": {},
   "outputs": [
    {
     "name": "stdout",
     "output_type": "stream",
     "text": [
      "3078329729552\n"
     ]
    }
   ],
   "source": [
    "y=x\n",
    "print( id(y) )"
   ]
  },
  {
   "cell_type": "code",
   "execution_count": 4,
   "id": "23656009",
   "metadata": {},
   "outputs": [
    {
     "name": "stdout",
     "output_type": "stream",
     "text": [
      "3078329729808\n"
     ]
    }
   ],
   "source": [
    "age=18\n",
    "print(id(age))"
   ]
  },
  {
   "cell_type": "code",
   "execution_count": 7,
   "id": "fa2ca1a7",
   "metadata": {},
   "outputs": [
    {
     "name": "stdout",
     "output_type": "stream",
     "text": [
      "3078329729808\n",
      "New 3078329729872\n"
     ]
    }
   ],
   "source": [
    "salary=age\n",
    "print(id(salary))\n",
    "\n",
    "salary=20\n",
    "print(\"New\",id(salary))"
   ]
  },
  {
   "cell_type": "code",
   "execution_count": 10,
   "id": "223dc8d9",
   "metadata": {},
   "outputs": [
    {
     "name": "stdout",
     "output_type": "stream",
     "text": [
      "3078329729808\n"
     ]
    }
   ],
   "source": [
    "print(id(age))"
   ]
  },
  {
   "cell_type": "code",
   "execution_count": 16,
   "id": "1b3ad509",
   "metadata": {},
   "outputs": [
    {
     "name": "stdout",
     "output_type": "stream",
     "text": [
      "T\n"
     ]
    }
   ],
   "source": [
    "# string indexing and slicing\n",
    "x=\"RAJASTHAN\"\n",
    "print( x[-4] )"
   ]
  },
  {
   "cell_type": "code",
   "execution_count": 19,
   "id": "b18cbb10",
   "metadata": {},
   "outputs": [
    {
     "name": "stdout",
     "output_type": "stream",
     "text": [
      "JA\n"
     ]
    }
   ],
   "source": [
    "# slicing [ start  : stop : [step=1]  ]\n",
    "x=\"RAJASTHAN\"\n",
    "print( x[2:4] )"
   ]
  },
  {
   "cell_type": "code",
   "execution_count": 23,
   "id": "2dc7b675",
   "metadata": {},
   "outputs": [
    {
     "name": "stdout",
     "output_type": "stream",
     "text": [
      "JASTHAN\n"
     ]
    }
   ],
   "source": [
    "x=\"RAJASTHAN\"\n",
    "print( x[2:] )"
   ]
  },
  {
   "cell_type": "code",
   "execution_count": 26,
   "id": "ee8c810f",
   "metadata": {},
   "outputs": [
    {
     "name": "stdout",
     "output_type": "stream",
     "text": [
      "RAJAS\n",
      "RAJAS\n"
     ]
    }
   ],
   "source": [
    "x=\"RAJASTHAN\"\n",
    "print( x[ :5 ] )\n",
    "\n",
    "print( x[ 0:5 ] )"
   ]
  },
  {
   "cell_type": "code",
   "execution_count": 30,
   "id": "3fdba96d",
   "metadata": {},
   "outputs": [
    {
     "name": "stdout",
     "output_type": "stream",
     "text": [
      "RAJA\n",
      "RAJA\n",
      "RJ\n"
     ]
    }
   ],
   "source": [
    "x=\"RAJASTHAN\"\n",
    "print( x[ 0:4 ] )\n",
    "print( x[ 0:4:1 ] )\n",
    "print( x[ 0:4:2 ] )"
   ]
  },
  {
   "cell_type": "code",
   "execution_count": 34,
   "id": "7ab95332",
   "metadata": {},
   "outputs": [
    {
     "name": "stdout",
     "output_type": "stream",
     "text": [
      "JAST\n",
      "JS\n",
      "JSHN\n"
     ]
    }
   ],
   "source": [
    "x=\"RAJASTHAN\"\n",
    "print( x[ 2:6:1] )\n",
    "print( x[ 2:6:2] )\n",
    "print( x[ 2::2] )"
   ]
  },
  {
   "cell_type": "code",
   "execution_count": 37,
   "id": "87885fd2",
   "metadata": {},
   "outputs": [
    {
     "name": "stdout",
     "output_type": "stream",
     "text": [
      "\n"
     ]
    }
   ],
   "source": [
    "x=\"RAJASTHAN\"\n",
    "print( x[ 0:4:-1] )"
   ]
  },
  {
   "cell_type": "code",
   "execution_count": 39,
   "id": "509e5261",
   "metadata": {},
   "outputs": [
    {
     "name": "stdout",
     "output_type": "stream",
     "text": [
      "\n"
     ]
    }
   ],
   "source": [
    "x=\"RAJASTHAN\"\n",
    "print( x[ -1:-3:1] )"
   ]
  },
  {
   "cell_type": "code",
   "execution_count": 41,
   "id": "0577ed8c",
   "metadata": {},
   "outputs": [
    {
     "name": "stdout",
     "output_type": "stream",
     "text": [
      "NA\n"
     ]
    }
   ],
   "source": [
    "x=\"RAJASTHAN\"\n",
    "print( x[ -1:-3: -1] )"
   ]
  },
  {
   "cell_type": "code",
   "execution_count": 44,
   "id": "53b9719c",
   "metadata": {},
   "outputs": [
    {
     "name": "stdout",
     "output_type": "stream",
     "text": [
      "THA\n"
     ]
    }
   ],
   "source": [
    "x=\"RAJASTHAN\"\n",
    "print( x[ -4:-1: 1] )"
   ]
  },
  {
   "cell_type": "code",
   "execution_count": 49,
   "id": "0aa09d21",
   "metadata": {},
   "outputs": [
    {
     "name": "stdout",
     "output_type": "stream",
     "text": [
      "hello\n"
     ]
    }
   ],
   "source": [
    "#conditional statement\n",
    "print(\"hello\")\n",
    "# if condititional statement"
   ]
  },
  {
   "cell_type": "code",
   "execution_count": 50,
   "id": "0f41195a",
   "metadata": {},
   "outputs": [
    {
     "data": {
      "text/plain": [
       "'\\nif(condition){\\n   statement\\n}\\n\\n\\nif(condition):\\n    print(\"\")\\n    print(\"hello\")\\n'"
      ]
     },
     "execution_count": 50,
     "metadata": {},
     "output_type": "execute_result"
    }
   ],
   "source": [
    "\"\"\"\n",
    "if(condition){\n",
    "   statement\n",
    "}\n",
    "\n",
    "\n",
    "if(condition):\n",
    "    print(\"\")\n",
    "    print(\"hello\")\n",
    "\"\"\""
   ]
  },
  {
   "cell_type": "code",
   "execution_count": 53,
   "id": "3985d308",
   "metadata": {},
   "outputs": [],
   "source": [
    "if(False):\n",
    "    print(\"hello\")"
   ]
  },
  {
   "cell_type": "code",
   "execution_count": 60,
   "id": "92fc6f3b",
   "metadata": {},
   "outputs": [
    {
     "name": "stdout",
     "output_type": "stream",
     "text": [
      "He can not vote\n"
     ]
    }
   ],
   "source": [
    "age=17\n",
    "country=\"India\"\n",
    "\n",
    "if( age==18 and country==\"India\"):\n",
    "    print(\"he can vote\")\n",
    "else:\n",
    "    print(\"He can not vote\")"
   ]
  },
  {
   "cell_type": "code",
   "execution_count": 69,
   "id": "983d8101",
   "metadata": {},
   "outputs": [
    {
     "name": "stdout",
     "output_type": "stream",
     "text": [
      "No adhar card\n"
     ]
    }
   ],
   "source": [
    "country=\"US\"\n",
    "age=17\n",
    "\n",
    "if(age>=18):\n",
    "    print(\"Voter id + Aadhar card\")\n",
    "elif(country==\"India\"):\n",
    "    print(\"Adhar card\")\n",
    "else:\n",
    "    print(\"No adhar card\")\n"
   ]
  },
  {
   "cell_type": "code",
   "execution_count": null,
   "id": "2bc5c3e6",
   "metadata": {},
   "outputs": [],
   "source": []
  }
 ],
 "metadata": {
  "kernelspec": {
   "display_name": "Python 3 (ipykernel)",
   "language": "python",
   "name": "python3"
  },
  "language_info": {
   "codemirror_mode": {
    "name": "ipython",
    "version": 3
   },
   "file_extension": ".py",
   "mimetype": "text/x-python",
   "name": "python",
   "nbconvert_exporter": "python",
   "pygments_lexer": "ipython3",
   "version": "3.10.11"
  }
 },
 "nbformat": 4,
 "nbformat_minor": 5
}
