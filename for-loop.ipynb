{
 "cells": [
  {
   "cell_type": "code",
   "execution_count": 2,
   "id": "c5aab2ac",
   "metadata": {},
   "outputs": [
    {
     "ename": "FileExistsError",
     "evalue": "[WinError 183] Cannot create a file when that file already exists: 'abc123'",
     "output_type": "error",
     "traceback": [
      "\u001b[1;31m---------------------------------------------------------------------------\u001b[0m",
      "\u001b[1;31mFileExistsError\u001b[0m                           Traceback (most recent call last)",
      "Cell \u001b[1;32mIn[2], line 3\u001b[0m\n\u001b[0;32m      1\u001b[0m \u001b[38;5;28;01mimport\u001b[39;00m \u001b[38;5;21;01mos\u001b[39;00m\n\u001b[1;32m----> 3\u001b[0m \u001b[43mos\u001b[49m\u001b[38;5;241;43m.\u001b[39;49m\u001b[43mmkdir\u001b[49m\u001b[43m(\u001b[49m\u001b[38;5;124;43m\"\u001b[39;49m\u001b[38;5;124;43mabc123\u001b[39;49m\u001b[38;5;124;43m\"\u001b[39;49m\u001b[43m)\u001b[49m\n\u001b[0;32m      5\u001b[0m help(os)\n",
      "\u001b[1;31mFileExistsError\u001b[0m: [WinError 183] Cannot create a file when that file already exists: 'abc123'"
     ]
    }
   ],
   "source": [
    "import os\n",
    "\n",
    "os.mkdir(\"abc123\")\n",
    "\n"
   ]
  },
  {
   "cell_type": "code",
   "execution_count": 5,
   "id": "5194c9c5",
   "metadata": {},
   "outputs": [],
   "source": [
    "# condtional"
   ]
  },
  {
   "cell_type": "code",
   "execution_count": 1,
   "id": "170ab58a",
   "metadata": {},
   "outputs": [
    {
     "name": "stdout",
     "output_type": "stream",
     "text": [
      "Aadhar card\n",
      "No pan card\n"
     ]
    }
   ],
   "source": [
    "# nested if-else\n",
    "age=17\n",
    "country=\"India\"\n",
    "\n",
    "if(country==\"India\"):\n",
    "    print(\"Aadhar card\")\n",
    "    \n",
    "    if(age>=18):\n",
    "        print(\"Pan card\")\n",
    "    else:\n",
    "        print(\"No pan card\")\n",
    "else:\n",
    "    \n",
    "    print(\"No aadhar card\")"
   ]
  },
  {
   "cell_type": "code",
   "execution_count": 5,
   "id": "09b35f9f",
   "metadata": {},
   "outputs": [
    {
     "name": "stdout",
     "output_type": "stream",
     "text": [
      "number is greater than 10\n",
      "Number is also divisible by 5\n"
     ]
    }
   ],
   "source": [
    "#  >10  => number than 10\n",
    "# 5 => number is also divisbile by 5\n",
    "num=85\n",
    "if(num>=10):\n",
    "    print(\"number is greater than 10\")\n",
    "    if(num%5==0):\n",
    "        print(\"Number is also divisible by 5\")\n",
    "    else:\n",
    "        print(\"not divisble by 5\")\n",
    "else:\n",
    "    print(\"Number is not greater than or equal to 10\")"
   ]
  },
  {
   "cell_type": "code",
   "execution_count": null,
   "id": "3d50945c",
   "metadata": {},
   "outputs": [],
   "source": []
  },
  {
   "cell_type": "code",
   "execution_count": 7,
   "id": "590d71df",
   "metadata": {},
   "outputs": [
    {
     "name": "stdout",
     "output_type": "stream",
     "text": [
      "hey\n",
      "hey\n",
      "hey\n"
     ]
    }
   ],
   "source": [
    "# looping statement\n",
    "# repetatively\n",
    "\n",
    "print(\"hey\")\n",
    "print(\"hey\")\n",
    "print(\"hey\")\n",
    "\n"
   ]
  },
  {
   "cell_type": "code",
   "execution_count": 11,
   "id": "cfc5df6f",
   "metadata": {},
   "outputs": [
    {
     "name": "stdout",
     "output_type": "stream",
     "text": [
      "0\n",
      "1\n",
      "2\n",
      "3\n",
      "4\n"
     ]
    }
   ],
   "source": [
    "# loops\n",
    "# for loop\n",
    "# range : 0 , 10 , 1   (start,stop, [step=1] )\n",
    "# for(i=0; i<10; i++)\n",
    "# for i in range(0,11)\n",
    "#  range(0,11,2)\n",
    "\n",
    "for i in range(0,5):\n",
    "    print(i)\n"
   ]
  },
  {
   "cell_type": "code",
   "execution_count": 13,
   "id": "87ddc6d3",
   "metadata": {},
   "outputs": [
    {
     "name": "stdout",
     "output_type": "stream",
     "text": [
      "1\n",
      "2\n",
      "3\n",
      "4\n",
      "5\n"
     ]
    }
   ],
   "source": [
    "\n",
    "for x in range(1,6):\n",
    "    print(x)"
   ]
  },
  {
   "cell_type": "code",
   "execution_count": 16,
   "id": "004bd770",
   "metadata": {},
   "outputs": [],
   "source": [
    "for x in range(1,6,-1):\n",
    "    print(x)"
   ]
  },
  {
   "cell_type": "code",
   "execution_count": 17,
   "id": "e632286b",
   "metadata": {},
   "outputs": [
    {
     "name": "stdout",
     "output_type": "stream",
     "text": [
      "4\n",
      "7\n",
      "10\n",
      "13\n"
     ]
    }
   ],
   "source": [
    "for x in range(4,14,3):\n",
    "    print(x)"
   ]
  },
  {
   "cell_type": "code",
   "execution_count": 20,
   "id": "cd238ef3",
   "metadata": {},
   "outputs": [
    {
     "name": "stdout",
     "output_type": "stream",
     "text": [
      "10\n",
      "9\n",
      "8\n",
      "7\n",
      "6\n",
      "5\n",
      "4\n",
      "3\n",
      "2\n",
      "1\n"
     ]
    }
   ],
   "source": [
    "for x in range(10,0,-1):\n",
    "    print(x)\n",
    "    \n",
    "    "
   ]
  },
  {
   "cell_type": "code",
   "execution_count": 25,
   "id": "fdbe5920",
   "metadata": {},
   "outputs": [
    {
     "name": "stdout",
     "output_type": "stream",
     "text": [
      "28\n"
     ]
    }
   ],
   "source": [
    "# to print all the even number from 1 to 7\n",
    "total=0\n",
    "for x in range(1,8):\n",
    "    total +=x\n",
    "    \n",
    "print(total)"
   ]
  },
  {
   "cell_type": "code",
   "execution_count": 28,
   "id": "bc8e5664",
   "metadata": {},
   "outputs": [
    {
     "name": "stdout",
     "output_type": "stream",
     "text": [
      "735\n"
     ]
    }
   ],
   "source": [
    "total=0\n",
    "for i in range(100,1,-1):\n",
    "    if(i%7==0):\n",
    "        total+=i\n",
    "print(total)"
   ]
  },
  {
   "cell_type": "code",
   "execution_count": 30,
   "id": "312b3908",
   "metadata": {},
   "outputs": [
    {
     "name": "stdout",
     "output_type": "stream",
     "text": [
      "h\n",
      "e\n",
      "l\n",
      "l\n",
      "o\n"
     ]
    }
   ],
   "source": [
    "# string\n",
    "for x in \"hello\":\n",
    "    print(x)\n",
    "    "
   ]
  },
  {
   "cell_type": "code",
   "execution_count": 34,
   "id": "5afd9d30",
   "metadata": {},
   "outputs": [
    {
     "name": "stdout",
     "output_type": "stream",
     "text": [
      "r e g e x "
     ]
    }
   ],
   "source": [
    "data=\"regex\"\n",
    "for char in data:\n",
    "    print(char,end=\" \")"
   ]
  },
  {
   "cell_type": "code",
   "execution_count": 48,
   "id": "d7100b07",
   "metadata": {},
   "outputs": [
    {
     "name": "stdout",
     "output_type": "stream",
     "text": [
      "j\n",
      "a\n",
      "i\n"
     ]
    }
   ],
   "source": [
    "# string data using index\n",
    "data=\"jai\"\n",
    "\n",
    "# range(0, 8)\n",
    "for i in range(0, len(data) ):\n",
    "    print(data[i])"
   ]
  },
  {
   "cell_type": "code",
   "execution_count": 50,
   "id": "4951ca05",
   "metadata": {},
   "outputs": [
    {
     "name": "stdout",
     "output_type": "stream",
     "text": [
      "Vowel is: a\n",
      "Vowel is: i\n",
      "Vowel is: u\n"
     ]
    }
   ],
   "source": [
    "for x in \"jaipur\":\n",
    "    if(x in \"aeiou\"):\n",
    "        print(\"Vowel is:\",x)"
   ]
  },
  {
   "cell_type": "code",
   "execution_count": 51,
   "id": "fd0f0498",
   "metadata": {},
   "outputs": [
    {
     "name": "stdout",
     "output_type": "stream",
     "text": [
      "Vowel is: a\n",
      "Vowel is: i\n"
     ]
    }
   ],
   "source": [
    "for x in \"jaipur\":\n",
    "    if(x==\"a\" or x==\"i\" or x==\"e\"):\n",
    "        print(\"Vowel is:\",x)"
   ]
  }
 ],
 "metadata": {
  "kernelspec": {
   "display_name": "Python 3 (ipykernel)",
   "language": "python",
   "name": "python3"
  },
  "language_info": {
   "codemirror_mode": {
    "name": "ipython",
    "version": 3
   },
   "file_extension": ".py",
   "mimetype": "text/x-python",
   "name": "python",
   "nbconvert_exporter": "python",
   "pygments_lexer": "ipython3",
   "version": "3.10.11"
  }
 },
 "nbformat": 4,
 "nbformat_minor": 5
}
